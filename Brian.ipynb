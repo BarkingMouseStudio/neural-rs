{
 "metadata": {
  "name": "",
  "signature": "sha256:b7b3d4a792eef5560539fdf8e13e01ab3b5ea0b47af6af2ac41288b7c87f017b"
 },
 "nbformat": 3,
 "nbformat_minor": 0,
 "worksheets": [
  {
   "cells": [
    {
     "cell_type": "code",
     "collapsed": false,
     "input": [
      "%matplotlib inline"
     ],
     "language": "python",
     "metadata": {},
     "outputs": [],
     "prompt_number": 1
    },
    {
     "cell_type": "code",
     "collapsed": false,
     "input": [
      "from brian2 import *"
     ],
     "language": "python",
     "metadata": {},
     "outputs": [],
     "prompt_number": 27
    },
    {
     "cell_type": "code",
     "collapsed": false,
     "input": [
      "tau = 4*ms\n",
      "\n",
      "a = 0.02\n",
      "b = 0.2\n",
      "c = -65.0\n",
      "d = 2.0\n",
      "e = 5.0\n",
      "f = 140.0\n",
      "g = 0.04\n",
      "\n",
      "V = c\n",
      "u = b * V\n",
      "\n",
      "eqns = '''\n",
      "  dV/dt = (g * V**2 + e * V + f - u + I) / tau : 1\n",
      "  du/dt = (a * (b * V - u)) / tau : 1\n",
      "  I = 0 : 1\n",
      "  '''\n",
      "\n",
      "N = NeuronGroup(1, eqns, threshold='V>30', reset='V=c; u+=d')\n",
      "# G = SpikeGeneratorGroup(1, array([0, 0, 0]), array([1, 2, 3])*ms)\n",
      "S = Synapses(G, N, pre='V+=0.1', connect='i==j')\n",
      "\n",
      "mon = StateMonitor(N, ['V', 'I'], record=True)\n",
      "net = Network(N, mon)\n",
      "net.run(10*ms)"
     ],
     "language": "python",
     "metadata": {},
     "outputs": [
      {
       "output_type": "stream",
       "stream": "stderr",
       "text": [
        "DEBUG:brian2.core.names:Created object of class NeuronGroup with name neurongroup_3\n"
       ]
      },
      {
       "output_type": "stream",
       "stream": "stderr",
       "text": [
        "DEBUG:brian2.core.base:Created BrianObject with name neurongroup_3, clock name defaultclock, when=start, order=0\n"
       ]
      },
      {
       "output_type": "stream",
       "stream": "stderr",
       "text": [
        "DEBUG:brian2.groups.neurongroup:Creating NeuronGroup of size 1, equations I = 30.0  : 1\n",
        "du/dt = (a * (b * V - u)) / tau  : 1\n",
        "dV/dt = (g * V**2 + e * V + f - u + I) / tau  : 1.\n"
       ]
      },
      {
       "output_type": "stream",
       "stream": "stderr",
       "text": [
        "DEBUG:brian2.core.names:Created object of class Thresholder with name neurongroup_3_thresholder\n"
       ]
      },
      {
       "output_type": "stream",
       "stream": "stderr",
       "text": [
        "DEBUG:brian2.core.base:Created BrianObject with name neurongroup_3_thresholder, clock name defaultclock, when=thresholds, order=0\n"
       ]
      },
      {
       "output_type": "stream",
       "stream": "stderr",
       "text": [
        "DEBUG:brian2.core.names:Created object of class Resetter with name neurongroup_3_resetter\n"
       ]
      },
      {
       "output_type": "stream",
       "stream": "stderr",
       "text": [
        "DEBUG:brian2.core.base:Created BrianObject with name neurongroup_3_resetter, clock name defaultclock, when=resets, order=0\n"
       ]
      },
      {
       "output_type": "stream",
       "stream": "stderr",
       "text": [
        "DEBUG:brian2.groups.group.check_code_units:Namespace not complete (yet), ignoring: 'The identifier \"c\" could not be resolved.' \n"
       ]
      },
      {
       "output_type": "stream",
       "stream": "stderr",
       "text": [
        "DEBUG:brian2.core.names:Created object of class StateUpdater with name neurongroup_3_stateupdater\n"
       ]
      },
      {
       "output_type": "stream",
       "stream": "stderr",
       "text": [
        "DEBUG:brian2.core.base:Created BrianObject with name neurongroup_3_stateupdater, clock name defaultclock, when=groups, order=0\n"
       ]
      },
      {
       "output_type": "stream",
       "stream": "stderr",
       "text": [
        "DEBUG:brian2.stateupdaters.exact:Cannot use linear integration: The expression \"(V*e + V**2.0*g + f - u + 30.0)/tau\", defining the variable V, could not be separated into linear components\n"
       ]
      },
      {
       "output_type": "stream",
       "stream": "stderr",
       "text": [
        "DEBUG:brian2.stateupdaters.exact:Cannot use independent integration: Equation for u referred to non-constant variables set(['V'])\n"
       ]
      },
      {
       "output_type": "stream",
       "stream": "stderr",
       "text": [
        "INFO:brian2.stateupdaters.base:Using stateupdater \"euler\"\n"
       ]
      },
      {
       "output_type": "stream",
       "stream": "stderr",
       "text": [
        "INFO     brian2.stateupdaters.base: Using stateupdater \"euler\"\n"
       ]
      },
      {
       "ename": "NameError",
       "evalue": "name 'SpikeGeneratorGroup' is not defined",
       "output_type": "pyerr",
       "traceback": [
        "\u001b[0;31m---------------------------------------------------------------------------\u001b[0m\n\u001b[0;31mNameError\u001b[0m                                 Traceback (most recent call last)",
        "\u001b[0;32m<ipython-input-72-3587ccede371>\u001b[0m in \u001b[0;36m<module>\u001b[0;34m()\u001b[0m\n\u001b[1;32m     19\u001b[0m \u001b[0;34m\u001b[0m\u001b[0m\n\u001b[1;32m     20\u001b[0m \u001b[0mN\u001b[0m \u001b[0;34m=\u001b[0m \u001b[0mNeuronGroup\u001b[0m\u001b[0;34m(\u001b[0m\u001b[0;36m1\u001b[0m\u001b[0;34m,\u001b[0m \u001b[0meqns\u001b[0m\u001b[0;34m,\u001b[0m \u001b[0mthreshold\u001b[0m\u001b[0;34m=\u001b[0m\u001b[0;34m'V>30'\u001b[0m\u001b[0;34m,\u001b[0m \u001b[0mreset\u001b[0m\u001b[0;34m=\u001b[0m\u001b[0;34m'V=c; u+=d'\u001b[0m\u001b[0;34m)\u001b[0m\u001b[0;34m\u001b[0m\u001b[0m\n\u001b[0;32m---> 21\u001b[0;31m \u001b[0mG\u001b[0m \u001b[0;34m=\u001b[0m \u001b[0mSpikeGeneratorGroup\u001b[0m\u001b[0;34m(\u001b[0m\u001b[0;36m1\u001b[0m\u001b[0;34m,\u001b[0m \u001b[0marray\u001b[0m\u001b[0;34m(\u001b[0m\u001b[0;34m[\u001b[0m\u001b[0;36m0\u001b[0m\u001b[0;34m,\u001b[0m \u001b[0;36m0\u001b[0m\u001b[0;34m,\u001b[0m \u001b[0;36m0\u001b[0m\u001b[0;34m]\u001b[0m\u001b[0;34m)\u001b[0m\u001b[0;34m,\u001b[0m \u001b[0marray\u001b[0m\u001b[0;34m(\u001b[0m\u001b[0;34m[\u001b[0m\u001b[0;36m1\u001b[0m\u001b[0;34m,\u001b[0m \u001b[0;36m2\u001b[0m\u001b[0;34m,\u001b[0m \u001b[0;36m3\u001b[0m\u001b[0;34m]\u001b[0m\u001b[0;34m)\u001b[0m\u001b[0;34m*\u001b[0m\u001b[0mms\u001b[0m\u001b[0;34m)\u001b[0m\u001b[0;34m\u001b[0m\u001b[0m\n\u001b[0m\u001b[1;32m     22\u001b[0m \u001b[0mS\u001b[0m \u001b[0;34m=\u001b[0m \u001b[0mSynapses\u001b[0m\u001b[0;34m(\u001b[0m\u001b[0mG\u001b[0m\u001b[0;34m,\u001b[0m \u001b[0mN\u001b[0m\u001b[0;34m,\u001b[0m \u001b[0mpre\u001b[0m\u001b[0;34m=\u001b[0m\u001b[0;34m'V+=0.1'\u001b[0m\u001b[0;34m,\u001b[0m \u001b[0mconnect\u001b[0m\u001b[0;34m=\u001b[0m\u001b[0;34m'i==j'\u001b[0m\u001b[0;34m)\u001b[0m\u001b[0;34m\u001b[0m\u001b[0m\n\u001b[1;32m     23\u001b[0m \u001b[0;34m\u001b[0m\u001b[0m\n",
        "\u001b[0;31mNameError\u001b[0m: name 'SpikeGeneratorGroup' is not defined"
       ]
      }
     ],
     "prompt_number": 72
    },
    {
     "cell_type": "code",
     "collapsed": false,
     "input": [
      "plot(mon.t / ms, mon.V.T)\n",
      "plot(mon.t / ms, mon.I.T)"
     ],
     "language": "python",
     "metadata": {},
     "outputs": [
      {
       "metadata": {},
       "output_type": "pyout",
       "prompt_number": 62,
       "text": [
        "[<matplotlib.lines.Line2D at 0x109119bd0>]"
       ]
      },
      {
       "metadata": {},
       "output_type": "display_data",
       "png": "[encoded data removed]",
       "text": [
        "<matplotlib.figure.Figure at 0x109119fd0>"
       ]
      }
     ],
     "prompt_number": 62
    },
    {
     "cell_type": "code",
     "collapsed": false,
     "input": [],
     "language": "python",
     "metadata": {},
     "outputs": []
    }
   ],
   "metadata": {}
  }
 ]
}